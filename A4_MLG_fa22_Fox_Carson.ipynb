{
 "cells": [
  {
   "cell_type": "markdown",
   "metadata": {
    "id": "kPt5q27L5557"
   },
   "source": [
    "# **Assignment 4 : Node embedding with Node2Vec**"
   ]
  },
  {
   "cell_type": "markdown",
   "metadata": {
    "id": "p0-YhEpP_Ds-"
   },
   "source": [
    "### Setup"
   ]
  },
  {
   "cell_type": "markdown",
   "metadata": {
    "id": "82kmj9fIVlq0"
   },
   "source": [
    "First of all, we install the [node2vec library](https://github.com/eliorc/node2vec) which offers a fast implementation of the node2vec method.\n",
    "\n",
    "If you are curious to learn how to implement fast random walks on graphs, I recommend you to [read the blog post](https://www.singlelunch.com/2019/08/01/700x-faster-node2vec-models-fastest-random-walks-on-a-graph/) which explains some of the design choices behind this library."
   ]
  },
  {
   "cell_type": "code",
   "execution_count": null,
   "metadata": {
    "id": "IU_X8jscGKTH"
   },
   "outputs": [],
   "source": [
    "!pip install node2vec "
   ]
  },
  {
   "cell_type": "markdown",
   "metadata": {
    "id": "pUCNE4-5Wc8b"
   },
   "source": [
    "We now import the library, and create a small wrapper class which will expose only the few hyperparameters we will need to tune in this Colab"
   ]
  },
  {
   "cell_type": "code",
   "execution_count": null,
   "metadata": {
    "id": "9n525ZCWGOlN"
   },
   "outputs": [],
   "source": [
    "# from nodevectors.embedders import Node2Vec\n",
    "from node2vec import Node2Vec\n",
    "import networkx as nx\n",
    "\n",
    "class Node2Vec(Node2Vec):\n",
    "  \"\"\"\n",
    "  Parameters\n",
    "  ----------\n",
    "  p : float\n",
    "      p parameter of node2vec\n",
    "  q : float\n",
    "      q parameter of node2vec\n",
    "  d : int\n",
    "      dimensionality of the embedding vectors\n",
    "  \"\"\"\n",
    "  def __init__(self, graph, p=1, q=1, d=32):\n",
    "    super().__init__(\n",
    "                     graph = graph,\n",
    "                     walk_length=10,\n",
    "                     p=p,\n",
    "                     q=q,\n",
    "                     dimensions =d\n",
    "                  )"
   ]
  },
  {
   "cell_type": "markdown",
   "metadata": {
    "id": "qwtlO4_m_LbQ"
   },
   "source": [
    "Lastly, let's import some of the common libraries needed for our task."
   ]
  },
  {
   "cell_type": "code",
   "execution_count": null,
   "metadata": {
    "id": "twk-K-jilWK7"
   },
   "outputs": [],
   "source": [
    "import pandas as pd\n",
    "import numpy as np\n",
    "import matplotlib.pyplot as plt\n",
    "import sklearn\n",
    "%matplotlib inline"
   ]
  },
  {
   "cell_type": "markdown",
   "metadata": {
    "id": "kAYRX2PMm0L6"
   },
   "source": [
    "### Example\n",
    "\n",
    "In the example below, we will use Zachary's Karate Club network to demonstrate the node embedding of node2vec. First we get 8 dimensional embeddings of the nodes, then we apply [TSNE](https://en.wikipedia.org/wiki/T-distributed_stochastic_neighbor_embedding) (t-distributed stochastic neighbor embedding) for compressing the embedding matrix in 2 dimensions."
   ]
  },
  {
   "cell_type": "code",
   "execution_count": null,
   "metadata": {
    "id": "7x2q8EWoYxS2"
   },
   "outputs": [],
   "source": [
    "#Loading the Karate club graph from Networkx\n",
    "KG = nx.karate_club_graph()\n",
    "\n",
    "# Fit embedding model to the Karate Club graph\n",
    "n2v_model = Node2Vec(KG, 1, 1, 8)\n",
    "\n",
    "# Embed nodes\n",
    "model = n2v_model.fit(window=10, min_count=1, batch_words=4)\n",
    "\n",
    "# Node to vec representation\n",
    "K8 =  model.wv.vectors\n",
    "K8.shape"
   ]
  },
  {
   "cell_type": "code",
   "execution_count": null,
   "metadata": {
    "id": "SK6jFpnYZaej"
   },
   "outputs": [],
   "source": [
    "#Dimensionality reduction by TSNE\n",
    "from sklearn.manifold import TSNE\n",
    "K8_reduced = TSNE(n_components=2).fit_transform(K8)\n",
    "K8_reduced.shape"
   ]
  },
  {
   "cell_type": "code",
   "execution_count": null,
   "metadata": {
    "id": "DQwOcVChmVii"
   },
   "outputs": [],
   "source": [
    "# Construct a pandas dataframe with the 2D embeddings from node2vec,\n",
    "# plus the club name that each node belongs to after the split\n",
    "embeddings = []\n",
    "for id in range(len(KG.nodes)):\n",
    "  embedding = K8_reduced[id]\n",
    "  club = KG.nodes[id]['club']\n",
    "  embeddings.append([embedding[0], embedding[1], club])\n",
    "df = pd.DataFrame(embeddings, columns=['x', 'y', 'club'])\n",
    "df"
   ]
  },
  {
   "cell_type": "code",
   "execution_count": null,
   "metadata": {
    "id": "03CIsqUsnMpn"
   },
   "outputs": [],
   "source": [
    "#Scatterplot and graph visualization\n",
    "# Nodes who stayed with the Mr. Hi will be plotted in red, while nodes\n",
    "# who moved with the Officer will be plotted in blue\n",
    "colors = ['red' if x == 'Mr. Hi' else 'blue' for x in df.club]\n",
    "df.plot.scatter(x='x', y='y', s=50, c=colors)\n",
    "plt.show()\n",
    "\n",
    "nx.draw(KG, with_labels=True, node_color=colors)\n",
    "plt.show()"
   ]
  },
  {
   "cell_type": "markdown",
   "metadata": {
    "id": "vbmr23B2rJKR"
   },
   "source": [
    "### Your Tasks"
   ]
  },
  {
   "cell_type": "markdown",
   "metadata": {
    "id": "PHqdqvVvphEB"
   },
   "source": [
    "**Question 1 (20 pts):** Directly embed the nodes in 2D through node2vec (without TSNE), and visualize the similar scatterplot with two groups of points with different colors. You can reuse the code of previous cells for dataframe generation and scatterplot drawing. Tune the hyperparameters ```p``` and ```q```, and notice how they affect the resulting embeddings."
   ]
  },
  {
   "cell_type": "code",
   "execution_count": null,
   "metadata": {
    "id": "73McIo5Ysz3i"
   },
   "outputs": [],
   "source": [
    "#INSERT CODE HERE. FEW LINES OF CODE.\n"
   ]
  },
  {
   "cell_type": "markdown",
   "metadata": {
    "id": "x15OQeyys1xd"
   },
   "source": [
    "Now we will study the behavior of node2vec on [barbell graphs](https://en.wikipedia.org/wiki/Barbell_graph).\n",
    "\n",
    "Below you can see a toy example of a barbell graph generated with NetworkX ( [nx.barbell_graph](https://networkx.github.io/documentation/stable/reference/generated/networkx.generators.classic.barbell_graph.html#networkx.generators.classic.barbell_graph) ). This is a barbell graph of two complete graphs (each having 7 nodes), connected by a chain of 2 nodes."
   ]
  },
  {
   "cell_type": "code",
   "execution_count": null,
   "metadata": {
    "id": "xUYxs4E8aHgG"
   },
   "outputs": [],
   "source": [
    "toy_barbell = nx.barbell_graph(7, 2)\n",
    "nx.draw_kamada_kawai(toy_barbell)"
   ]
  },
  {
   "cell_type": "markdown",
   "metadata": {
    "id": "G7K3-57FyD8D"
   },
   "source": [
    "**Question 2 (20 pts):**  Generate a barbell graph, where each complete graph has exactly 100 nodes, and there are 10 nodes in the path between them (i.e., all the nodes in the barbell graph belong to either one of the two complete graphs, and the connecting path have 10 internal nodes).\n",
    "\n",
    "Then, learn node2vec embeddings on this graph, setting ```p = 1, q = 1``` and ```d = 10```."
   ]
  },
  {
   "cell_type": "code",
   "execution_count": null,
   "metadata": {
    "id": "Yk5gBR1tt5eQ"
   },
   "outputs": [],
   "source": [
    "#INSERT CODE HERE. FEW LINES OF CODE.\n"
   ]
  },
  {
   "cell_type": "markdown",
   "metadata": {
    "id": "fyxZBVwhzLQe"
   },
   "source": [
    "**Question 3 (30 pts):**\n",
    "Now write a function *all_cos_sim(node_id, embedding_matrix)* that takes as input a node id ```x``` in the graph (e.g., ```5```) and the embedding matrix, and returns a list containing the cosine similarity between the node2vec vectors obtained from `model_2.wv.vectors` of the input node ```x``` and each of the nodes in the given barbell graph (including the similarity with ```x``` itself)."
   ]
  },
  {
   "cell_type": "code",
   "execution_count": null,
   "metadata": {
    "id": "shO4pIRauKSo"
   },
   "outputs": [],
   "source": [
    "# INSERT CODE HERE. FEW LINES OF CODE.\n"
   ]
  },
  {
   "cell_type": "markdown",
   "metadata": {
    "id": "l54uvuGTFQVT"
   },
   "source": [
    "**Question 4 (30 pts):**\n",
    "Group the simlarity frequecies in three bins, and visualize a barchart. You can see one example of creating barchart [here](https://pythonspot.com/matplotlib-bar-chart/) . The x axix ticks of your barchart will have three node groups (Other group, bridge nodes, and same group). The y axis will represent the count of nodes in each bin. Your barchart might look like the following barchart.\n",
    "\n",
    "![barbel_barchart.jpg](data:image/jpeg;base64,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)"
   ]
  },
  {
   "cell_type": "code",
   "execution_count": null,
   "metadata": {
    "id": "sd40p6viux9S"
   },
   "outputs": [],
   "source": [
    "sims = all_cos_sim(5, w2v_2)\n",
    "#INSERT CODE HERE. FEW LINES OF CODE.\n"
   ]
  }
 ],
 "metadata": {
  "colab": {
   "collapsed_sections": [],
   "machine_shape": "hm",
   "provenance": []
  },
  "kernelspec": {
   "display_name": "Python 3 (ipykernel)",
   "language": "python",
   "name": "python3"
  },
  "language_info": {
   "codemirror_mode": {
    "name": "ipython",
    "version": 3
   },
   "file_extension": ".py",
   "mimetype": "text/x-python",
   "name": "python",
   "nbconvert_exporter": "python",
   "pygments_lexer": "ipython3",
   "version": "3.10.7"
  }
 },
 "nbformat": 4,
 "nbformat_minor": 4
}
