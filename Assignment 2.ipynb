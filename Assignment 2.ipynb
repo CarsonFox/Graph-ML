{
 "cells": [
  {
   "cell_type": "markdown",
   "metadata": {
    "id": "lX2kzgYw9cFL"
   },
   "source": [
    "# **Assignment 2 : Graph Generation**\n"
   ]
  },
  {
   "cell_type": "markdown",
   "metadata": {
    "id": "CNUxgsgl_Ej2"
   },
   "source": [
    "Please submit the ipynb file with your inserted code in the assignment 2 folder of Canvas by **09/21/22 11:59 pm MT**. Your file name: \\<your_first_name\\>_A2.ipynb. You need to use the Python library [Snap](https://snap.stanford.edu/snappy/doc/index.html). You can use Google Colab or Jupyter Notebook to edit this file. Please download the file, insert the code and answers (text), and submit your file. "
   ]
  },
  {
   "cell_type": "code",
   "execution_count": 1,
   "metadata": {
    "colab": {
     "base_uri": "https://localhost:8080/"
    },
    "id": "8cnVU3Iu9blk",
    "outputId": "ab906afe-c3b1-4683-fc45-7d089d20087b"
   },
   "outputs": [
    {
     "name": "stdout",
     "output_type": "stream",
     "text": [
      "Defaulting to user installation because normal site-packages is not writeable\n",
      "\u001b[31mERROR: Could not find a version that satisfies the requirement snap-stanford (from versions: none)\u001b[0m\n",
      "\u001b[31mERROR: No matching distribution found for snap-stanford\u001b[0m\n"
     ]
    }
   ],
   "source": [
    "#Install snap\n",
    "!pip install snap-stanford"
   ]
  },
  {
   "cell_type": "code",
   "execution_count": 2,
   "metadata": {
    "id": "RNpdQTeQAMl8"
   },
   "outputs": [
    {
     "ename": "ModuleNotFoundError",
     "evalue": "No module named 'snap'",
     "output_type": "error",
     "traceback": [
      "\u001b[0;31m---------------------------------------------------------------------------\u001b[0m",
      "\u001b[0;31mModuleNotFoundError\u001b[0m                       Traceback (most recent call last)",
      "Input \u001b[0;32mIn [2]\u001b[0m, in \u001b[0;36m<module>\u001b[0;34m\u001b[0m\n\u001b[1;32m      1\u001b[0m \u001b[38;5;66;03m#import visualization libraries\u001b[39;00m\n\u001b[0;32m----> 2\u001b[0m \u001b[38;5;28;01mimport\u001b[39;00m \u001b[38;5;21;01msnap\u001b[39;00m\n\u001b[1;32m      3\u001b[0m \u001b[38;5;28;01mimport\u001b[39;00m \u001b[38;5;21;01mmatplotlib\u001b[39;00m\u001b[38;5;21;01m.\u001b[39;00m\u001b[38;5;21;01mpyplot\u001b[39;00m \u001b[38;5;28;01mas\u001b[39;00m \u001b[38;5;21;01mplt\u001b[39;00m\n\u001b[1;32m      4\u001b[0m \u001b[38;5;28;01mfrom\u001b[39;00m \u001b[38;5;21;01mmatplotlib\u001b[39;00m\u001b[38;5;21;01m.\u001b[39;00m\u001b[38;5;21;01mlines\u001b[39;00m \u001b[38;5;28;01mimport\u001b[39;00m Line2D\n",
      "\u001b[0;31mModuleNotFoundError\u001b[0m: No module named 'snap'"
     ]
    }
   ],
   "source": [
    "#import visualization libraries\n",
    "import snap\n",
    "import matplotlib.pyplot as plt\n",
    "from matplotlib.lines import Line2D"
   ]
  },
  {
   "cell_type": "markdown",
   "metadata": {
    "id": "RHCvPNSuElP6"
   },
   "source": [
    "Following code shows the degree distribution of an Erdos-Renyi model generated random graph (undirected) of 1024 nodes and 20,000 edges."
   ]
  },
  {
   "cell_type": "code",
   "execution_count": null,
   "metadata": {
    "colab": {
     "base_uri": "https://localhost:8080/",
     "height": 310
    },
    "id": "fkvfZR0sAd7l",
    "outputId": "a33e38b6-cb8d-4b70-c5e7-d5d68cdff50c"
   },
   "outputs": [],
   "source": [
    "#Following code shows the degree distribution of an Erdos-Renyi model generated random graph (undirected).\n",
    "snap.TRnd()\n",
    "\n",
    "UGraph = snap.GenRndGnm(snap.TUNGraph, 1024, 20000)\n",
    "DegCounts = UGraph.GetDegCnt()\n",
    "degs = []\n",
    "counts = []\n",
    "for item in DegCounts:\n",
    "    #print(\"%d nodes with out-degree %d\" % (item.GetVal2(), item.GetVal1()))\n",
    "    degs.append(item.GetVal1())\n",
    "    counts.append(item.GetVal2())\n",
    "\n",
    "fig = plt.figure(1, figsize=(12, 4))\n",
    "\n",
    "ax = fig.add_subplot(1, 2, 1)\n",
    "plt.scatter(degs, counts, marker=Line2D.filled_markers[0], color='b')\n",
    "plt.title('Linear scale')\n",
    "plt.xlabel(\"Degree\")\n",
    "plt.ylabel(\"Counts\")\n",
    "\n",
    "\n",
    "ax = fig.add_subplot(1, 2, 2)\n",
    "plt.scatter(degs, counts, marker=Line2D.filled_markers[0], color='r')\n",
    "plt.title('Log scale')\n",
    "plt.xlabel(\"Degree\")\n",
    "plt.ylabel(\"Counts\")\n",
    "ax.set_yscale('log')\n",
    "ax.set_xscale('log')\n",
    "fig.suptitle(\"Fig 1: Undirected graph by ER model: numNodes= 1024 numEdges 20000\", fontsize=14)\n",
    "plt.show()"
   ]
  },
  {
   "cell_type": "markdown",
   "metadata": {
    "id": "Zji6SLiREyvJ"
   },
   "source": [
    "**Question 1.1: (40 points)** Use Preferential Attachment model (Barabási–Albert model) to generate two graphs with following parameters. You can use GenPrefAttach function of snap.\n",
    "\n",
    "\n",
    "1.   Graph 1: Undirected; number of initial nodes (m0) = 4000; number of edges of each new node (m) = 3 \n",
    "2.   Graph 2: Undirected; number of initial nodes (m0) = 16000; number of edges of each new node (m) = 5 \n",
    "\n",
    "Show the degree distributions (both axis in **log scale**) of both graphs. Use subplots, titles, and labels similar to Figure 1.\n",
    "\n"
   ]
  },
  {
   "cell_type": "code",
   "execution_count": null,
   "metadata": {
    "colab": {
     "base_uri": "https://localhost:8080/"
    },
    "id": "m0Clyrd0EMzM",
    "outputId": "18a49100-859a-48ca-accb-3b9799e8e0e6"
   },
   "outputs": [],
   "source": [
    "snap.TRnd()\n",
    "#INSERT CODE HERE"
   ]
  },
  {
   "cell_type": "markdown",
   "metadata": {
    "id": "NTAZu6bALL4b"
   },
   "source": [
    "**Question 1.2 (10 points)**: Which degree distribution do you observe in the BA model?"
   ]
  },
  {
   "cell_type": "markdown",
   "metadata": {
    "id": "sPH-jLtNLVcA"
   },
   "source": []
  },
  {
   "cell_type": "markdown",
   "metadata": {
    "id": "k3_00IxvHZ4D"
   },
   "source": [
    "**Question 2.1: (40 points)** Use R-MAT to generate two graphs with following parameters. You can use GenRMat function of snap.\n",
    "\n",
    "\n",
    "1.   Graph 1: Directed; number of nodes = 4000; number of edges = 20000; a = 0.4, b = 0.15, c = 0.2 \n",
    "2.   Graph 2: Directed; number of nodes = 16000; number of edges = 32000; a = 0.6, b = 0.1, c = 0.15  \n",
    "\n",
    "Show the degree distributions (both axis in **linear scale**) of both graphs. Use subplots, titles, and labels similar to Figure 1."
   ]
  },
  {
   "cell_type": "code",
   "execution_count": null,
   "metadata": {
    "id": "EhTM95-sIViU"
   },
   "outputs": [],
   "source": [
    "Rnd = snap.TRnd()\n",
    "#INSERT CODE HERE"
   ]
  },
  {
   "cell_type": "markdown",
   "metadata": {
    "id": "abZNLBgsQiTt"
   },
   "source": [
    "**Question 2.2 (10 points)**: Which degree distribution do you observe in R-MAT?"
   ]
  },
  {
   "cell_type": "markdown",
   "metadata": {
    "id": "G4-x2qmyQmDi"
   },
   "source": []
  }
 ],
 "metadata": {
  "colab": {
   "collapsed_sections": [],
   "provenance": []
  },
  "kernelspec": {
   "display_name": "Python 3 (ipykernel)",
   "language": "python",
   "name": "python3"
  },
  "language_info": {
   "codemirror_mode": {
    "name": "ipython",
    "version": 3
   },
   "file_extension": ".py",
   "mimetype": "text/x-python",
   "name": "python",
   "nbconvert_exporter": "python",
   "pygments_lexer": "ipython3",
   "version": "3.10.6"
  }
 },
 "nbformat": 4,
 "nbformat_minor": 4
}
