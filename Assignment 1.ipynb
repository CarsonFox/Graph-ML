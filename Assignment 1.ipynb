{
 "cells": [
  {
   "cell_type": "code",
   "execution_count": 1,
   "id": "51be3976-a5cb-49f6-8b45-28abd6fa61f4",
   "metadata": {
    "jupyter": {
     "source_hidden": true
    },
    "tags": []
   },
   "outputs": [],
   "source": [
    "import warnings\n",
    "warnings.simplefilter(action='ignore', category=FutureWarning)"
   ]
  },
  {
   "cell_type": "code",
   "execution_count": 2,
   "id": "b74564fe-c572-43a7-9edc-ea4391be1bce",
   "metadata": {
    "jupyter": {
     "source_hidden": true
    },
    "tags": []
   },
   "outputs": [],
   "source": [
    "import networkx as nx\n",
    "import matplotlib.pyplot as plt\n",
    "import numpy as np"
   ]
  },
  {
   "cell_type": "markdown",
   "id": "56aae1af-054a-4e1d-b1b8-7bf01355a6e7",
   "metadata": {
    "tags": []
   },
   "source": [
    "#"
   ]
  },
  {
   "cell_type": "markdown",
   "id": "2fd3756f-f022-4971-8fd0-34173b3ad174",
   "metadata": {},
   "source": [
    "The given graph can be constructed in Networkx as follows:"
   ]
  },
  {
   "cell_type": "code",
   "execution_count": 3,
   "id": "a3aef67b-2d41-4202-ae42-36b03b5eebc0",
   "metadata": {},
   "outputs": [
    {
     "data": {
      "image/png": "[encoded data removed]",
      "text/plain": [
       "<Figure size 432x288 with 1 Axes>"
      ]
     },
     "metadata": {},
     "output_type": "display_data"
    }
   ],
   "source": [
    "G = nx.Graph()\n",
    "G.add_nodes_from(range(1, 7))\n",
    "G.add_edges_from([\n",
    "    (1, 6),\n",
    "    (1, 3),\n",
    "    (1, 4),\n",
    "    (2, 4),\n",
    "    (6, 2),\n",
    "    (4, 6),\n",
    "    (5, 4),\n",
    "])\n",
    "nx.draw(G, with_labels=True)"
   ]
  },
  {
   "cell_type": "markdown",
   "id": "21c97056-a41c-42b4-afec-9e0e48a0b85c",
   "metadata": {},
   "source": [
    "1. The degree of a node is the number of edges that contain that node. In our case, nodes 1 and 4 have degree 3 and 4, respectively."
   ]
  },
  {
   "cell_type": "code",
   "execution_count": 4,
   "id": "8a50b7ce-5ab3-48ef-bb0c-b891a1bc8dcc",
   "metadata": {},
   "outputs": [
    {
     "data": {
      "text/plain": [
       "DegreeView({1: 3, 4: 4})"
      ]
     },
     "execution_count": 4,
     "metadata": {},
     "output_type": "execute_result"
    }
   ],
   "source": [
    "G.degree([1, 4])"
   ]
  },
  {
   "cell_type": "markdown",
   "id": "739f5ea8-630b-4338-a6e0-55cc99d946c0",
   "metadata": {},
   "source": [
    "2. The shortest path from node 3 to node 5 is clearly 3 -> 1 -> 4 -> 5."
   ]
  },
  {
   "cell_type": "code",
   "execution_count": 5,
   "id": "a9c8e3db-9afa-414b-a4d3-3ca5cc5bc403",
   "metadata": {},
   "outputs": [
    {
     "data": {
      "text/plain": [
       "[3, 1, 4, 5]"
      ]
     },
     "execution_count": 5,
     "metadata": {},
     "output_type": "execute_result"
    }
   ],
   "source": [
    "nx.shortest_path(G, source=3, target=5)"
   ]
  },
  {
   "cell_type": "markdown",
   "id": "c7bf0862-b787-4f02-8dfa-806cd86385ba",
   "metadata": {},
   "source": [
    "3. In networkx, the edge list representation of a graph can be accessed with the edges() method."
   ]
  },
  {
   "cell_type": "code",
   "execution_count": 6,
   "id": "642ba921-d6a2-4eae-949f-24166dce8b3d",
   "metadata": {},
   "outputs": [
    {
     "data": {
      "text/plain": [
       "EdgeView([(1, 6), (1, 3), (1, 4), (2, 4), (2, 6), (4, 6), (4, 5)])"
      ]
     },
     "execution_count": 6,
     "metadata": {},
     "output_type": "execute_result"
    }
   ],
   "source": [
    "G.edges()"
   ]
  },
  {
   "cell_type": "markdown",
   "id": "f0cd0f17-07bd-453f-8b2c-930810d6e42d",
   "metadata": {},
   "source": [
    "4. An adjacency list can be computed in networkx by listing the neighbors of every node in the graph."
   ]
  },
  {
   "cell_type": "code",
   "execution_count": 7,
   "id": "7d0c6d5f-8986-41ef-ac60-ef6fac960757",
   "metadata": {},
   "outputs": [
    {
     "data": {
      "text/plain": [
       "{1: [6, 3, 4], 2: [4, 6], 3: [1], 4: [1, 2, 6, 5], 5: [4], 6: [1, 2, 4]}"
      ]
     },
     "execution_count": 7,
     "metadata": {},
     "output_type": "execute_result"
    }
   ],
   "source": [
    "{node: list(nx.all_neighbors(G, node)) for node in G.nodes()}"
   ]
  },
  {
   "cell_type": "markdown",
   "id": "ec3652c6-9257-423d-b126-e454adbccd2f",
   "metadata": {},
   "source": [
    "5. Networkx will compute the adjacency matrix of a graph, and return it in a sparse representation. The todense() method can be used to display a regular matrix."
   ]
  },
  {
   "cell_type": "code",
   "execution_count": 8,
   "id": "f3acef14-d2dd-40d8-91db-6e9fc59d11dd",
   "metadata": {},
   "outputs": [
    {
     "data": {
      "text/plain": [
       "matrix([[0, 0, 1, 1, 0, 1],\n",
       "        [0, 0, 0, 1, 0, 1],\n",
       "        [1, 0, 0, 0, 0, 0],\n",
       "        [1, 1, 0, 0, 1, 1],\n",
       "        [0, 0, 0, 1, 0, 0],\n",
       "        [1, 1, 0, 1, 0, 0]])"
      ]
     },
     "execution_count": 8,
     "metadata": {},
     "output_type": "execute_result"
    }
   ],
   "source": [
    "A = nx.adjacency_matrix(G)\n",
    "A.todense()"
   ]
  },
  {
   "cell_type": "markdown",
   "id": "c81d9701-2a9b-4192-954e-594289df89ef",
   "metadata": {},
   "source": [
    "6. One method to compute the degree matrix of a graph is to find the Laplacian, and then add the adjacency matrix."
   ]
  },
  {
   "cell_type": "code",
   "execution_count": 9,
   "id": "7712c299-937b-4844-80ed-105a6bcf2b07",
   "metadata": {},
   "outputs": [
    {
     "data": {
      "text/plain": [
       "matrix([[3, 0, 0, 0, 0, 0],\n",
       "        [0, 2, 0, 0, 0, 0],\n",
       "        [0, 0, 1, 0, 0, 0],\n",
       "        [0, 0, 0, 4, 0, 0],\n",
       "        [0, 0, 0, 0, 1, 0],\n",
       "        [0, 0, 0, 0, 0, 3]])"
      ]
     },
     "execution_count": 9,
     "metadata": {},
     "output_type": "execute_result"
    }
   ],
   "source": [
    "L = nx.laplacian_matrix(G)\n",
    "D = A + L\n",
    "D.todense()"
   ]
  },
  {
   "cell_type": "markdown",
   "id": "43132220-ad44-4e5b-a81f-1c3eba3efb3a",
   "metadata": {},
   "source": [
    "Note that the degree matrix is a diagonal matrix, where each entry is the degree of a corresponding node."
   ]
  },
  {
   "cell_type": "code",
   "execution_count": 10,
   "id": "9420c328-ecdb-49bf-9ac6-dbe71235b5fd",
   "metadata": {},
   "outputs": [
    {
     "data": {
      "text/plain": [
       "[3, 2, 1, 4, 1, 3]"
      ]
     },
     "execution_count": 10,
     "metadata": {},
     "output_type": "execute_result"
    }
   ],
   "source": [
    "[degree for _, degree in G.degree(range(1, 7))]"
   ]
  },
  {
   "cell_type": "markdown",
   "id": "c0c8ca59-e1a2-44a7-b6f6-7f8126a67209",
   "metadata": {},
   "source": [
    "7. The Laplacian was used above to compute the degree matrix."
   ]
  },
  {
   "cell_type": "code",
   "execution_count": 11,
   "id": "3575045a-adef-42ea-b353-8439dba91e2d",
   "metadata": {},
   "outputs": [
    {
     "data": {
      "text/plain": [
       "matrix([[ 3,  0, -1, -1,  0, -1],\n",
       "        [ 0,  2,  0, -1,  0, -1],\n",
       "        [-1,  0,  1,  0,  0,  0],\n",
       "        [-1, -1,  0,  4, -1, -1],\n",
       "        [ 0,  0,  0, -1,  1,  0],\n",
       "        [-1, -1,  0, -1,  0,  3]])"
      ]
     },
     "execution_count": 11,
     "metadata": {},
     "output_type": "execute_result"
    }
   ],
   "source": [
    "L.todense()"
   ]
  },
  {
   "cell_type": "markdown",
   "id": "67690deb-3c1b-4b76-bed8-4bb1551e35ba",
   "metadata": {},
   "source": [
    "8. The incidence matrix can be computed with the line graph of G, or directly via a Networkx method."
   ]
  },
  {
   "cell_type": "code",
   "execution_count": 12,
   "id": "397042b3-0697-4a89-941c-b7b3733fa224",
   "metadata": {},
   "outputs": [
    {
     "data": {
      "text/plain": [
       "array([[1., 1., 1., 0., 0., 0., 0.],\n",
       "       [0., 0., 0., 1., 1., 0., 0.],\n",
       "       [0., 1., 0., 0., 0., 0., 0.],\n",
       "       [0., 0., 1., 1., 0., 1., 1.],\n",
       "       [0., 0., 0., 0., 0., 0., 1.],\n",
       "       [1., 0., 0., 0., 1., 1., 0.]])"
      ]
     },
     "execution_count": 12,
     "metadata": {},
     "output_type": "execute_result"
    }
   ],
   "source": [
    "C = nx.incidence_matrix(G)\n",
    "C.todense()"
   ]
  },
  {
   "cell_type": "markdown",
   "id": "e3d3a794-9c78-4638-bca1-cad621219678",
   "metadata": {},
   "source": [
    "11. A, D, and C are related by the identity: $A = C\\cdot C^T - D$."
   ]
  },
  {
   "cell_type": "code",
   "execution_count": 13,
   "id": "a988488d-abc3-4e7a-a948-953f87518abd",
   "metadata": {},
   "outputs": [
    {
     "data": {
      "text/plain": [
       "True"
      ]
     },
     "execution_count": 13,
     "metadata": {},
     "output_type": "execute_result"
    }
   ],
   "source": [
    "np.array_equal(A.todense(), (C @ C.transpose() - D).todense())"
   ]
  },
  {
   "cell_type": "markdown",
   "id": "915f355f-94d9-47bd-a6b0-f24d9dff0304",
   "metadata": {},
   "source": [
    "10. The line graph is found by converting each edge to a node, and adding an edge between each node pair corresponding to edges in the original graph that contained the same node. For example, node (2, 6) is connected to node (2, 4) because they were both edges that connected to node 2."
   ]
  },
  {
   "cell_type": "code",
   "execution_count": 14,
   "id": "4b6f9a1a-fd6c-490b-b92f-e919801ba494",
   "metadata": {},
   "outputs": [
    {
     "data": {
      "image/png": "[encoded data removed]",
      "text/plain": [
       "<Figure size 432x288 with 1 Axes>"
      ]
     },
     "metadata": {},
     "output_type": "display_data"
    }
   ],
   "source": [
    "L = nx.line_graph(G)\n",
    "nx.draw(L, with_labels=True)"
   ]
  },
  {
   "cell_type": "markdown",
   "id": "4ad7d2d9-9751-4545-bfa7-705cd163c678",
   "metadata": {},
   "source": [
    "-----------------------------------------------------\n",
    "#"
   ]
  },
  {
   "cell_type": "markdown",
   "id": "e7fe1242-d763-4bb3-b3ea-797c84e16009",
   "metadata": {},
   "source": [
    "A directed graph is constructed in the same way as an undirected one, except the order of the pairs given to add_edges() matters."
   ]
  },
  {
   "cell_type": "code",
   "execution_count": 15,
   "id": "19c0d539-4435-4b00-b83a-eaf432e0a11b",
   "metadata": {},
   "outputs": [],
   "source": [
    "G = nx.DiGraph()\n",
    "G.add_nodes_from(range(1, 7))\n",
    "G.add_edges_from([\n",
    "    (1, 3),\n",
    "    (4, 1),\n",
    "    (6, 1),\n",
    "    (4, 2),\n",
    "    (6, 2),\n",
    "    (4, 5),\n",
    "    (6, 4),\n",
    "    (4, 6),\n",
    "])"
   ]
  },
  {
   "cell_type": "markdown",
   "id": "bdb70897-2c6e-4344-ae61-d8a1374d815e",
   "metadata": {},
   "source": [
    "1. There are separate methods to compute in- and out-degree of nodes."
   ]
  },
  {
   "cell_type": "code",
   "execution_count": 16,
   "id": "18b0b923-f287-4cfd-a2b7-f74f9ce885aa",
   "metadata": {},
   "outputs": [
    {
     "data": {
      "text/plain": [
       "(InDegreeView({2: 2, 6: 1}), OutDegreeView({2: 0, 6: 3}))"
      ]
     },
     "execution_count": 16,
     "metadata": {},
     "output_type": "execute_result"
    }
   ],
   "source": [
    "G.in_degree([2, 6]), G.out_degree([2, 6])"
   ]
  },
  {
   "cell_type": "markdown",
   "id": "f9c644d6-0307-4218-bfd9-755ac286c8e3",
   "metadata": {},
   "source": [
    "2. By default, Networkx will compute shortest paths via Dijkstra's algorithm."
   ]
  },
  {
   "cell_type": "code",
   "execution_count": 17,
   "id": "fcba4836-a99a-40d9-9eba-7838b060f5c0",
   "metadata": {},
   "outputs": [
    {
     "data": {
      "text/plain": [
       "[4, 1, 3]"
      ]
     },
     "execution_count": 17,
     "metadata": {},
     "output_type": "execute_result"
    }
   ],
   "source": [
    "nx.shortest_path(G, source=4, target=3)"
   ]
  },
  {
   "cell_type": "markdown",
   "id": "5f7894e9-873c-46a7-a9e5-6b58030235fa",
   "metadata": {},
   "source": [
    "3. By inspection, the graph should not be strongly connected. Node 5, for example, has out-degree of 0, so it can't reach any other nodes."
   ]
  },
  {
   "cell_type": "code",
   "execution_count": 18,
   "id": "346554ff-7757-4de6-80b9-a93b2989eec4",
   "metadata": {},
   "outputs": [
    {
     "data": {
      "text/plain": [
       "False"
      ]
     },
     "execution_count": 18,
     "metadata": {},
     "output_type": "execute_result"
    }
   ],
   "source": [
    "nx.is_strongly_connected(G)"
   ]
  },
  {
   "cell_type": "markdown",
   "id": "4b97a7bd-9603-4240-8500-b3e37930e9b1",
   "metadata": {},
   "source": [
    "4. Strongly connected components are subgraphs in which every node has a path to every other node. The largest such subgraph is the cycle between 4 and 6."
   ]
  },
  {
   "cell_type": "code",
   "execution_count": 19,
   "id": "49b69fb8-35e8-4bdc-bb7c-70aa5e750c69",
   "metadata": {},
   "outputs": [
    {
     "data": {
      "text/plain": [
       "[{3}, {1}, {2}, {5}, {4, 6}]"
      ]
     },
     "execution_count": 19,
     "metadata": {},
     "output_type": "execute_result"
    }
   ],
   "source": [
    "list(nx.strongly_connected_components(G))"
   ]
  },
  {
   "cell_type": "markdown",
   "id": "a3525c98-22e6-4583-b8ba-02c31245c237",
   "metadata": {},
   "source": [
    "5. This is not an acyclic graph, because there is a cycle between nodes 4 and 6."
   ]
  },
  {
   "cell_type": "code",
   "execution_count": 20,
   "id": "f6db97b2-3901-4d28-a754-929e44ce5807",
   "metadata": {},
   "outputs": [
    {
     "data": {
      "text/plain": [
       "False"
      ]
     },
     "execution_count": 20,
     "metadata": {},
     "output_type": "execute_result"
    }
   ],
   "source": [
    "nx.is_directed_acyclic_graph(G)"
   ]
  },
  {
   "cell_type": "markdown",
   "id": "0e8c4dd6-545f-48d2-985b-08b093947166",
   "metadata": {},
   "source": [
    "6. The graph diameter is defined as the longest shortest path between two nodes in the graph, which is 6 in this case. Networkx has a function to compute this directly, but it seems to fail on graphs with cycles."
   ]
  },
  {
   "cell_type": "code",
   "execution_count": 21,
   "id": "b8229837-f2a5-4ad4-a16c-45e6a58cf228",
   "metadata": {},
   "outputs": [
    {
     "data": {
      "text/plain": [
       "6"
      ]
     },
     "execution_count": 21,
     "metadata": {},
     "output_type": "execute_result"
    }
   ],
   "source": [
    "max(len(path) for _, path in nx.shortest_path_length(G))"
   ]
  },
  {
   "cell_type": "markdown",
   "id": "34f97d3d-036e-4d57-8337-3bb59ee73419",
   "metadata": {},
   "source": [
    "7. The edge list representation of G is found via edges(). Note that these are directed edges."
   ]
  },
  {
   "cell_type": "code",
   "execution_count": 22,
   "id": "20d0f33a-ed99-4cd6-9d2b-6dd89f71d510",
   "metadata": {},
   "outputs": [
    {
     "data": {
      "text/plain": [
       "OutEdgeView([(1, 3), (4, 1), (4, 2), (4, 5), (4, 6), (6, 1), (6, 2), (6, 4)])"
      ]
     },
     "execution_count": 22,
     "metadata": {},
     "output_type": "execute_result"
    }
   ],
   "source": [
    "G.edges()"
   ]
  },
  {
   "cell_type": "markdown",
   "id": "78bedaae-0b22-4d76-8eee-fc6f4aa43722",
   "metadata": {},
   "source": [
    "8. Adjacency list of G:"
   ]
  },
  {
   "cell_type": "code",
   "execution_count": 23,
   "id": "740df6e8-8707-453f-8841-79568cc81353",
   "metadata": {},
   "outputs": [
    {
     "data": {
      "text/plain": [
       "{1: [3], 2: [], 3: [], 4: [1, 2, 5, 6], 5: [], 6: [1, 2, 4]}"
      ]
     },
     "execution_count": 23,
     "metadata": {},
     "output_type": "execute_result"
    }
   ],
   "source": [
    "{node: list(G.neighbors(node)) for node in G.nodes()}"
   ]
  },
  {
   "cell_type": "markdown",
   "id": "62ae8ec9-d553-4ca5-9cb1-48d93a45dd61",
   "metadata": {},
   "source": [
    "9. Adjacency matrix of G:"
   ]
  },
  {
   "cell_type": "code",
   "execution_count": 24,
   "id": "a5095bd8-feb0-41b9-a2bb-637ca2ba0897",
   "metadata": {},
   "outputs": [
    {
     "data": {
      "text/plain": [
       "matrix([[0, 0, 1, 0, 0, 0],\n",
       "        [0, 0, 0, 0, 0, 0],\n",
       "        [0, 0, 0, 0, 0, 0],\n",
       "        [1, 1, 0, 0, 1, 1],\n",
       "        [0, 0, 0, 0, 0, 0],\n",
       "        [1, 1, 0, 1, 0, 0]])"
      ]
     },
     "execution_count": 24,
     "metadata": {},
     "output_type": "execute_result"
    }
   ],
   "source": [
    "A = nx.adjacency_matrix(G)\n",
    "A.todense()"
   ]
  },
  {
   "cell_type": "markdown",
   "id": "d6986a66-9e65-4f0f-850a-cae9f3cfb1fc",
   "metadata": {},
   "source": [
    "10. Incidence matrices come in pairs for directed graphs. Networkx returns one matrix, with positive values corresponding to in-edges, and negative values for out-edges. Thresholding can extract the individual matries."
   ]
  },
  {
   "cell_type": "code",
   "execution_count": 25,
   "id": "cb2c914c-a30e-472a-ae95-d40f230b7e96",
   "metadata": {},
   "outputs": [
    {
     "data": {
      "text/plain": [
       "(array([[1., 0., 0., 0., 0., 0., 0., 0.],\n",
       "        [0., 0., 0., 0., 0., 0., 0., 0.],\n",
       "        [0., 0., 0., 0., 0., 0., 0., 0.],\n",
       "        [0., 1., 1., 1., 1., 0., 0., 0.],\n",
       "        [0., 0., 0., 0., 0., 0., 0., 0.],\n",
       "        [0., 0., 0., 0., 0., 1., 1., 1.]]),\n",
       " array([[0., 1., 0., 0., 0., 1., 0., 0.],\n",
       "        [0., 0., 1., 0., 0., 0., 1., 0.],\n",
       "        [1., 0., 0., 0., 0., 0., 0., 0.],\n",
       "        [0., 0., 0., 0., 0., 0., 0., 1.],\n",
       "        [0., 0., 0., 1., 0., 0., 0., 0.],\n",
       "        [0., 0., 0., 0., 1., 0., 0., 0.]]))"
      ]
     },
     "execution_count": 25,
     "metadata": {},
     "output_type": "execute_result"
    }
   ],
   "source": [
    "C = nx.incidence_matrix(G, oriented=True)\n",
    "B, E = -((C < 0) * C), (C > 0) * C\n",
    "B.todense(), E.todense()"
   ]
  },
  {
   "cell_type": "markdown",
   "id": "6ea8a11a-3ccb-4bf3-a20f-7dd69e54d3e1",
   "metadata": {},
   "source": [
    "11. A, B, and E are related by the identity: $A = B\\cdot E^T$."
   ]
  },
  {
   "cell_type": "code",
   "execution_count": 26,
   "id": "194c6634-d2d3-40a0-9ae0-e629a2705e87",
   "metadata": {},
   "outputs": [
    {
     "data": {
      "text/plain": [
       "True"
      ]
     },
     "execution_count": 26,
     "metadata": {},
     "output_type": "execute_result"
    }
   ],
   "source": [
    "np.array_equal(A.todense(), (B @ E.transpose()).todense())"
   ]
  },
  {
   "cell_type": "markdown",
   "id": "4f5e87cc-07e9-479b-9596-a1fe090b812b",
   "metadata": {},
   "source": [
    "12. The line graph is generated like an undirected graph, but it is directed. There is an edge between two nodes in the line graph if their edges in the original graph are part of a path."
   ]
  },
  {
   "cell_type": "code",
   "execution_count": 27,
   "id": "bc570a30-0add-46ba-8901-db18ee26c588",
   "metadata": {},
   "outputs": [
    {
     "data": {
      "image/png": "[encoded data removed]",
      "text/plain": [
       "<Figure size 432x288 with 1 Axes>"
      ]
     },
     "metadata": {},
     "output_type": "display_data"
    }
   ],
   "source": [
    "L = nx.line_graph(G)\n",
    "nx.draw_planar(L, with_labels=True)"
   ]
  },
  {
   "cell_type": "markdown",
   "id": "8d9f2854-eb4b-4199-8a06-701959351852",
   "metadata": {},
   "source": [
    "13. The adjacency matrix of L:"
   ]
  },
  {
   "cell_type": "code",
   "execution_count": 28,
   "id": "c07a9e1d-f7dc-485e-aa5c-270ec4b9a274",
   "metadata": {},
   "outputs": [
    {
     "data": {
      "text/plain": [
       "matrix([[0, 0, 0, 0, 0, 0, 0, 0],\n",
       "        [1, 0, 0, 0, 0, 0, 0, 0],\n",
       "        [0, 0, 0, 0, 0, 0, 0, 0],\n",
       "        [0, 0, 0, 0, 0, 0, 0, 0],\n",
       "        [0, 0, 0, 0, 0, 1, 1, 1],\n",
       "        [1, 0, 0, 0, 0, 0, 0, 0],\n",
       "        [0, 0, 0, 0, 0, 0, 0, 0],\n",
       "        [0, 1, 1, 1, 1, 0, 0, 0]])"
      ]
     },
     "execution_count": 28,
     "metadata": {},
     "output_type": "execute_result"
    }
   ],
   "source": [
    "M = nx.adjacency_matrix(L)\n",
    "M.todense()"
   ]
  },
  {
   "cell_type": "markdown",
   "id": "9a1e89b0-0deb-4e49-ada7-7d7ed0def051",
   "metadata": {},
   "source": [
    "14. M, B, and E are related by the formula $M = E^T\\cdot B$:"
   ]
  },
  {
   "cell_type": "code",
   "execution_count": 29,
   "id": "cafed79e-b46a-4136-8b68-9be12c0f67b7",
   "metadata": {},
   "outputs": [
    {
     "data": {
      "text/plain": [
       "True"
      ]
     },
     "execution_count": 29,
     "metadata": {},
     "output_type": "execute_result"
    }
   ],
   "source": [
    "np.array_equal(M.astype(float).todense(), (E.transpose() @ B).todense())"
   ]
  }
 ],
 "metadata": {
  "kernelspec": {
   "display_name": "Python 3 (ipykernel)",
   "language": "python",
   "name": "python3"
  },
  "language_info": {
   "codemirror_mode": {
    "name": "ipython",
    "version": 3
   },
   "file_extension": ".py",
   "mimetype": "text/x-python",
   "name": "python",
   "nbconvert_exporter": "python",
   "pygments_lexer": "ipython3",
   "version": "3.10.6"
  }
 },
 "nbformat": 4,
 "nbformat_minor": 5
}
